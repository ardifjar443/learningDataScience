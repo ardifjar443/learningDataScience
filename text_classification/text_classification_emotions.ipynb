{
  "nbformat": 4,
  "nbformat_minor": 0,
  "metadata": {
    "colab": {
      "provenance": []
    },
    "kernelspec": {
      "name": "python3",
      "display_name": "Python 3"
    },
    "language_info": {
      "name": "python"
    }
  },
  "cells": [
    {
      "cell_type": "code",
      "execution_count": null,
      "metadata": {
        "id": "oDmF6OtUiSQa"
      },
      "outputs": [],
      "source": [
        "import pandas as pd\n",
        "import tensorflow as tf\n",
        "from tensorflow.keras.preprocessing.text import Tokenizer\n",
        "from tensorflow.keras.preprocessing.sequence import pad_sequences\n",
        "from sklearn.model_selection import train_test_split\n",
        "from sklearn.preprocessing import LabelEncoder\n",
        "from tensorflow.keras.utils import to_categorical\n",
        "import matplotlib.pyplot as plt\n",
        "from tensorflow.keras.callbacks import EarlyStopping, ModelCheckpoint\n",
        "from tensorflow.keras.models import Sequential\n",
        "from tensorflow.keras.layers import Embedding, LSTM, Dense, Dropout\n",
        "from tensorflow.keras.models import load_model\n",
        "import re"
      ]
    },
    {
      "cell_type": "code",
      "source": [
        "df = pd.read_csv('Emotion_final.csv')"
      ],
      "metadata": {
        "id": "uMBES0hjjR3N"
      },
      "execution_count": null,
      "outputs": []
    },
    {
      "cell_type": "code",
      "source": [
        "df.head()"
      ],
      "metadata": {
        "id": "kYcOgYo3cihR",
        "colab": {
          "base_uri": "https://localhost:8080/",
          "height": 204
        },
        "outputId": "03e65015-3667-4e44-8f32-03dbcef355ca"
      },
      "execution_count": null,
      "outputs": [
        {
          "output_type": "execute_result",
          "data": {
            "text/plain": [
              "                                                Text  Emotion\n",
              "0                            i didnt feel humiliated  sadness\n",
              "1  i can go from feeling so hopeless to so damned...  sadness\n",
              "2   im grabbing a minute to post i feel greedy wrong    anger\n",
              "3  i am ever feeling nostalgic about the fireplac...     love\n",
              "4                               i am feeling grouchy    anger"
            ],
            "text/html": [
              "\n",
              "  <div id=\"df-b7d230f6-0d3a-4fba-90d5-52d77c8fbd65\" class=\"colab-df-container\">\n",
              "    <div>\n",
              "<style scoped>\n",
              "    .dataframe tbody tr th:only-of-type {\n",
              "        vertical-align: middle;\n",
              "    }\n",
              "\n",
              "    .dataframe tbody tr th {\n",
              "        vertical-align: top;\n",
              "    }\n",
              "\n",
              "    .dataframe thead th {\n",
              "        text-align: right;\n",
              "    }\n",
              "</style>\n",
              "<table border=\"1\" class=\"dataframe\">\n",
              "  <thead>\n",
              "    <tr style=\"text-align: right;\">\n",
              "      <th></th>\n",
              "      <th>Text</th>\n",
              "      <th>Emotion</th>\n",
              "    </tr>\n",
              "  </thead>\n",
              "  <tbody>\n",
              "    <tr>\n",
              "      <th>0</th>\n",
              "      <td>i didnt feel humiliated</td>\n",
              "      <td>sadness</td>\n",
              "    </tr>\n",
              "    <tr>\n",
              "      <th>1</th>\n",
              "      <td>i can go from feeling so hopeless to so damned...</td>\n",
              "      <td>sadness</td>\n",
              "    </tr>\n",
              "    <tr>\n",
              "      <th>2</th>\n",
              "      <td>im grabbing a minute to post i feel greedy wrong</td>\n",
              "      <td>anger</td>\n",
              "    </tr>\n",
              "    <tr>\n",
              "      <th>3</th>\n",
              "      <td>i am ever feeling nostalgic about the fireplac...</td>\n",
              "      <td>love</td>\n",
              "    </tr>\n",
              "    <tr>\n",
              "      <th>4</th>\n",
              "      <td>i am feeling grouchy</td>\n",
              "      <td>anger</td>\n",
              "    </tr>\n",
              "  </tbody>\n",
              "</table>\n",
              "</div>\n",
              "    <div class=\"colab-df-buttons\">\n",
              "\n",
              "  <div class=\"colab-df-container\">\n",
              "    <button class=\"colab-df-convert\" onclick=\"convertToInteractive('df-b7d230f6-0d3a-4fba-90d5-52d77c8fbd65')\"\n",
              "            title=\"Convert this dataframe to an interactive table.\"\n",
              "            style=\"display:none;\">\n",
              "\n",
              "  <svg xmlns=\"http://www.w3.org/2000/svg\" height=\"24px\" viewBox=\"0 -960 960 960\">\n",
              "    <path d=\"M120-120v-720h720v720H120Zm60-500h600v-160H180v160Zm220 220h160v-160H400v160Zm0 220h160v-160H400v160ZM180-400h160v-160H180v160Zm440 0h160v-160H620v160ZM180-180h160v-160H180v160Zm440 0h160v-160H620v160Z\"/>\n",
              "  </svg>\n",
              "    </button>\n",
              "\n",
              "  <style>\n",
              "    .colab-df-container {\n",
              "      display:flex;\n",
              "      gap: 12px;\n",
              "    }\n",
              "\n",
              "    .colab-df-convert {\n",
              "      background-color: #E8F0FE;\n",
              "      border: none;\n",
              "      border-radius: 50%;\n",
              "      cursor: pointer;\n",
              "      display: none;\n",
              "      fill: #1967D2;\n",
              "      height: 32px;\n",
              "      padding: 0 0 0 0;\n",
              "      width: 32px;\n",
              "    }\n",
              "\n",
              "    .colab-df-convert:hover {\n",
              "      background-color: #E2EBFA;\n",
              "      box-shadow: 0px 1px 2px rgba(60, 64, 67, 0.3), 0px 1px 3px 1px rgba(60, 64, 67, 0.15);\n",
              "      fill: #174EA6;\n",
              "    }\n",
              "\n",
              "    .colab-df-buttons div {\n",
              "      margin-bottom: 4px;\n",
              "    }\n",
              "\n",
              "    [theme=dark] .colab-df-convert {\n",
              "      background-color: #3B4455;\n",
              "      fill: #D2E3FC;\n",
              "    }\n",
              "\n",
              "    [theme=dark] .colab-df-convert:hover {\n",
              "      background-color: #434B5C;\n",
              "      box-shadow: 0px 1px 3px 1px rgba(0, 0, 0, 0.15);\n",
              "      filter: drop-shadow(0px 1px 2px rgba(0, 0, 0, 0.3));\n",
              "      fill: #FFFFFF;\n",
              "    }\n",
              "  </style>\n",
              "\n",
              "    <script>\n",
              "      const buttonEl =\n",
              "        document.querySelector('#df-b7d230f6-0d3a-4fba-90d5-52d77c8fbd65 button.colab-df-convert');\n",
              "      buttonEl.style.display =\n",
              "        google.colab.kernel.accessAllowed ? 'block' : 'none';\n",
              "\n",
              "      async function convertToInteractive(key) {\n",
              "        const element = document.querySelector('#df-b7d230f6-0d3a-4fba-90d5-52d77c8fbd65');\n",
              "        const dataTable =\n",
              "          await google.colab.kernel.invokeFunction('convertToInteractive',\n",
              "                                                    [key], {});\n",
              "        if (!dataTable) return;\n",
              "\n",
              "        const docLinkHtml = 'Like what you see? Visit the ' +\n",
              "          '<a target=\"_blank\" href=https://colab.research.google.com/notebooks/data_table.ipynb>data table notebook</a>'\n",
              "          + ' to learn more about interactive tables.';\n",
              "        element.innerHTML = '';\n",
              "        dataTable['output_type'] = 'display_data';\n",
              "        await google.colab.output.renderOutput(dataTable, element);\n",
              "        const docLink = document.createElement('div');\n",
              "        docLink.innerHTML = docLinkHtml;\n",
              "        element.appendChild(docLink);\n",
              "      }\n",
              "    </script>\n",
              "  </div>\n",
              "\n",
              "\n",
              "<div id=\"df-eec9fc55-6e4a-4b27-94db-428c325297e6\">\n",
              "  <button class=\"colab-df-quickchart\" onclick=\"quickchart('df-eec9fc55-6e4a-4b27-94db-428c325297e6')\"\n",
              "            title=\"Suggest charts\"\n",
              "            style=\"display:none;\">\n",
              "\n",
              "<svg xmlns=\"http://www.w3.org/2000/svg\" height=\"24px\"viewBox=\"0 0 24 24\"\n",
              "     width=\"24px\">\n",
              "    <g>\n",
              "        <path d=\"M19 3H5c-1.1 0-2 .9-2 2v14c0 1.1.9 2 2 2h14c1.1 0 2-.9 2-2V5c0-1.1-.9-2-2-2zM9 17H7v-7h2v7zm4 0h-2V7h2v10zm4 0h-2v-4h2v4z\"/>\n",
              "    </g>\n",
              "</svg>\n",
              "  </button>\n",
              "\n",
              "<style>\n",
              "  .colab-df-quickchart {\n",
              "      --bg-color: #E8F0FE;\n",
              "      --fill-color: #1967D2;\n",
              "      --hover-bg-color: #E2EBFA;\n",
              "      --hover-fill-color: #174EA6;\n",
              "      --disabled-fill-color: #AAA;\n",
              "      --disabled-bg-color: #DDD;\n",
              "  }\n",
              "\n",
              "  [theme=dark] .colab-df-quickchart {\n",
              "      --bg-color: #3B4455;\n",
              "      --fill-color: #D2E3FC;\n",
              "      --hover-bg-color: #434B5C;\n",
              "      --hover-fill-color: #FFFFFF;\n",
              "      --disabled-bg-color: #3B4455;\n",
              "      --disabled-fill-color: #666;\n",
              "  }\n",
              "\n",
              "  .colab-df-quickchart {\n",
              "    background-color: var(--bg-color);\n",
              "    border: none;\n",
              "    border-radius: 50%;\n",
              "    cursor: pointer;\n",
              "    display: none;\n",
              "    fill: var(--fill-color);\n",
              "    height: 32px;\n",
              "    padding: 0;\n",
              "    width: 32px;\n",
              "  }\n",
              "\n",
              "  .colab-df-quickchart:hover {\n",
              "    background-color: var(--hover-bg-color);\n",
              "    box-shadow: 0 1px 2px rgba(60, 64, 67, 0.3), 0 1px 3px 1px rgba(60, 64, 67, 0.15);\n",
              "    fill: var(--button-hover-fill-color);\n",
              "  }\n",
              "\n",
              "  .colab-df-quickchart-complete:disabled,\n",
              "  .colab-df-quickchart-complete:disabled:hover {\n",
              "    background-color: var(--disabled-bg-color);\n",
              "    fill: var(--disabled-fill-color);\n",
              "    box-shadow: none;\n",
              "  }\n",
              "\n",
              "  .colab-df-spinner {\n",
              "    border: 2px solid var(--fill-color);\n",
              "    border-color: transparent;\n",
              "    border-bottom-color: var(--fill-color);\n",
              "    animation:\n",
              "      spin 1s steps(1) infinite;\n",
              "  }\n",
              "\n",
              "  @keyframes spin {\n",
              "    0% {\n",
              "      border-color: transparent;\n",
              "      border-bottom-color: var(--fill-color);\n",
              "      border-left-color: var(--fill-color);\n",
              "    }\n",
              "    20% {\n",
              "      border-color: transparent;\n",
              "      border-left-color: var(--fill-color);\n",
              "      border-top-color: var(--fill-color);\n",
              "    }\n",
              "    30% {\n",
              "      border-color: transparent;\n",
              "      border-left-color: var(--fill-color);\n",
              "      border-top-color: var(--fill-color);\n",
              "      border-right-color: var(--fill-color);\n",
              "    }\n",
              "    40% {\n",
              "      border-color: transparent;\n",
              "      border-right-color: var(--fill-color);\n",
              "      border-top-color: var(--fill-color);\n",
              "    }\n",
              "    60% {\n",
              "      border-color: transparent;\n",
              "      border-right-color: var(--fill-color);\n",
              "    }\n",
              "    80% {\n",
              "      border-color: transparent;\n",
              "      border-right-color: var(--fill-color);\n",
              "      border-bottom-color: var(--fill-color);\n",
              "    }\n",
              "    90% {\n",
              "      border-color: transparent;\n",
              "      border-bottom-color: var(--fill-color);\n",
              "    }\n",
              "  }\n",
              "</style>\n",
              "\n",
              "  <script>\n",
              "    async function quickchart(key) {\n",
              "      const quickchartButtonEl =\n",
              "        document.querySelector('#' + key + ' button');\n",
              "      quickchartButtonEl.disabled = true;  // To prevent multiple clicks.\n",
              "      quickchartButtonEl.classList.add('colab-df-spinner');\n",
              "      try {\n",
              "        const charts = await google.colab.kernel.invokeFunction(\n",
              "            'suggestCharts', [key], {});\n",
              "      } catch (error) {\n",
              "        console.error('Error during call to suggestCharts:', error);\n",
              "      }\n",
              "      quickchartButtonEl.classList.remove('colab-df-spinner');\n",
              "      quickchartButtonEl.classList.add('colab-df-quickchart-complete');\n",
              "    }\n",
              "    (() => {\n",
              "      let quickchartButtonEl =\n",
              "        document.querySelector('#df-eec9fc55-6e4a-4b27-94db-428c325297e6 button');\n",
              "      quickchartButtonEl.style.display =\n",
              "        google.colab.kernel.accessAllowed ? 'block' : 'none';\n",
              "    })();\n",
              "  </script>\n",
              "</div>\n",
              "    </div>\n",
              "  </div>\n"
            ]
          },
          "metadata": {},
          "execution_count": 98
        }
      ]
    },
    {
      "cell_type": "code",
      "source": [
        "def clean_text(text):\n",
        "    text = text.lower()\n",
        "    text = re.sub(r'http\\S+', '', text)\n",
        "    text = re.sub(r'@\\w+', '', text)\n",
        "    text = re.sub(r'#\\w+', '', text)\n",
        "    text = re.sub(r'\\d+', '', text)\n",
        "    text = re.sub(r'\\W', ' ', text)\n",
        "    text = re.sub(r'\\s+', ' ', text).strip()\n",
        "    return text\n",
        "\n",
        "df['cleaned_text'] = df['Text'].apply(clean_text)"
      ],
      "metadata": {
        "id": "xgzTz36_jkhu"
      },
      "execution_count": null,
      "outputs": []
    },
    {
      "cell_type": "code",
      "source": [
        "df.tail()"
      ],
      "metadata": {
        "id": "sQj7wXdPjZcM",
        "colab": {
          "base_uri": "https://localhost:8080/",
          "height": 204
        },
        "outputId": "cfa36d41-1d9f-4ff1-fcea-4222185b614f"
      },
      "execution_count": null,
      "outputs": [
        {
          "output_type": "execute_result",
          "data": {
            "text/plain": [
              "                                                    Text Emotion  \\\n",
              "21454               Melissa stared at her friend in dism    fear   \n",
              "21455  Successive state elections have seen the gover...    fear   \n",
              "21456               Vincent was irritated but not dismay    fear   \n",
              "21457  Kendall-Hume turned back to face the dismayed ...    fear   \n",
              "21458                    I am dismayed , but not surpris    fear   \n",
              "\n",
              "                                            cleaned_text  \n",
              "21454               melissa stared at her friend in dism  \n",
              "21455  successive state elections have seen the gover...  \n",
              "21456               vincent was irritated but not dismay  \n",
              "21457  kendall hume turned back to face the dismayed ...  \n",
              "21458                      i am dismayed but not surpris  "
            ],
            "text/html": [
              "\n",
              "  <div id=\"df-3274baf1-8fc3-41e4-9bf4-0760296c2394\" class=\"colab-df-container\">\n",
              "    <div>\n",
              "<style scoped>\n",
              "    .dataframe tbody tr th:only-of-type {\n",
              "        vertical-align: middle;\n",
              "    }\n",
              "\n",
              "    .dataframe tbody tr th {\n",
              "        vertical-align: top;\n",
              "    }\n",
              "\n",
              "    .dataframe thead th {\n",
              "        text-align: right;\n",
              "    }\n",
              "</style>\n",
              "<table border=\"1\" class=\"dataframe\">\n",
              "  <thead>\n",
              "    <tr style=\"text-align: right;\">\n",
              "      <th></th>\n",
              "      <th>Text</th>\n",
              "      <th>Emotion</th>\n",
              "      <th>cleaned_text</th>\n",
              "    </tr>\n",
              "  </thead>\n",
              "  <tbody>\n",
              "    <tr>\n",
              "      <th>21454</th>\n",
              "      <td>Melissa stared at her friend in dism</td>\n",
              "      <td>fear</td>\n",
              "      <td>melissa stared at her friend in dism</td>\n",
              "    </tr>\n",
              "    <tr>\n",
              "      <th>21455</th>\n",
              "      <td>Successive state elections have seen the gover...</td>\n",
              "      <td>fear</td>\n",
              "      <td>successive state elections have seen the gover...</td>\n",
              "    </tr>\n",
              "    <tr>\n",
              "      <th>21456</th>\n",
              "      <td>Vincent was irritated but not dismay</td>\n",
              "      <td>fear</td>\n",
              "      <td>vincent was irritated but not dismay</td>\n",
              "    </tr>\n",
              "    <tr>\n",
              "      <th>21457</th>\n",
              "      <td>Kendall-Hume turned back to face the dismayed ...</td>\n",
              "      <td>fear</td>\n",
              "      <td>kendall hume turned back to face the dismayed ...</td>\n",
              "    </tr>\n",
              "    <tr>\n",
              "      <th>21458</th>\n",
              "      <td>I am dismayed , but not surpris</td>\n",
              "      <td>fear</td>\n",
              "      <td>i am dismayed but not surpris</td>\n",
              "    </tr>\n",
              "  </tbody>\n",
              "</table>\n",
              "</div>\n",
              "    <div class=\"colab-df-buttons\">\n",
              "\n",
              "  <div class=\"colab-df-container\">\n",
              "    <button class=\"colab-df-convert\" onclick=\"convertToInteractive('df-3274baf1-8fc3-41e4-9bf4-0760296c2394')\"\n",
              "            title=\"Convert this dataframe to an interactive table.\"\n",
              "            style=\"display:none;\">\n",
              "\n",
              "  <svg xmlns=\"http://www.w3.org/2000/svg\" height=\"24px\" viewBox=\"0 -960 960 960\">\n",
              "    <path d=\"M120-120v-720h720v720H120Zm60-500h600v-160H180v160Zm220 220h160v-160H400v160Zm0 220h160v-160H400v160ZM180-400h160v-160H180v160Zm440 0h160v-160H620v160ZM180-180h160v-160H180v160Zm440 0h160v-160H620v160Z\"/>\n",
              "  </svg>\n",
              "    </button>\n",
              "\n",
              "  <style>\n",
              "    .colab-df-container {\n",
              "      display:flex;\n",
              "      gap: 12px;\n",
              "    }\n",
              "\n",
              "    .colab-df-convert {\n",
              "      background-color: #E8F0FE;\n",
              "      border: none;\n",
              "      border-radius: 50%;\n",
              "      cursor: pointer;\n",
              "      display: none;\n",
              "      fill: #1967D2;\n",
              "      height: 32px;\n",
              "      padding: 0 0 0 0;\n",
              "      width: 32px;\n",
              "    }\n",
              "\n",
              "    .colab-df-convert:hover {\n",
              "      background-color: #E2EBFA;\n",
              "      box-shadow: 0px 1px 2px rgba(60, 64, 67, 0.3), 0px 1px 3px 1px rgba(60, 64, 67, 0.15);\n",
              "      fill: #174EA6;\n",
              "    }\n",
              "\n",
              "    .colab-df-buttons div {\n",
              "      margin-bottom: 4px;\n",
              "    }\n",
              "\n",
              "    [theme=dark] .colab-df-convert {\n",
              "      background-color: #3B4455;\n",
              "      fill: #D2E3FC;\n",
              "    }\n",
              "\n",
              "    [theme=dark] .colab-df-convert:hover {\n",
              "      background-color: #434B5C;\n",
              "      box-shadow: 0px 1px 3px 1px rgba(0, 0, 0, 0.15);\n",
              "      filter: drop-shadow(0px 1px 2px rgba(0, 0, 0, 0.3));\n",
              "      fill: #FFFFFF;\n",
              "    }\n",
              "  </style>\n",
              "\n",
              "    <script>\n",
              "      const buttonEl =\n",
              "        document.querySelector('#df-3274baf1-8fc3-41e4-9bf4-0760296c2394 button.colab-df-convert');\n",
              "      buttonEl.style.display =\n",
              "        google.colab.kernel.accessAllowed ? 'block' : 'none';\n",
              "\n",
              "      async function convertToInteractive(key) {\n",
              "        const element = document.querySelector('#df-3274baf1-8fc3-41e4-9bf4-0760296c2394');\n",
              "        const dataTable =\n",
              "          await google.colab.kernel.invokeFunction('convertToInteractive',\n",
              "                                                    [key], {});\n",
              "        if (!dataTable) return;\n",
              "\n",
              "        const docLinkHtml = 'Like what you see? Visit the ' +\n",
              "          '<a target=\"_blank\" href=https://colab.research.google.com/notebooks/data_table.ipynb>data table notebook</a>'\n",
              "          + ' to learn more about interactive tables.';\n",
              "        element.innerHTML = '';\n",
              "        dataTable['output_type'] = 'display_data';\n",
              "        await google.colab.output.renderOutput(dataTable, element);\n",
              "        const docLink = document.createElement('div');\n",
              "        docLink.innerHTML = docLinkHtml;\n",
              "        element.appendChild(docLink);\n",
              "      }\n",
              "    </script>\n",
              "  </div>\n",
              "\n",
              "\n",
              "<div id=\"df-d8ea0486-9a49-449b-8104-ba8b75b69b1d\">\n",
              "  <button class=\"colab-df-quickchart\" onclick=\"quickchart('df-d8ea0486-9a49-449b-8104-ba8b75b69b1d')\"\n",
              "            title=\"Suggest charts\"\n",
              "            style=\"display:none;\">\n",
              "\n",
              "<svg xmlns=\"http://www.w3.org/2000/svg\" height=\"24px\"viewBox=\"0 0 24 24\"\n",
              "     width=\"24px\">\n",
              "    <g>\n",
              "        <path d=\"M19 3H5c-1.1 0-2 .9-2 2v14c0 1.1.9 2 2 2h14c1.1 0 2-.9 2-2V5c0-1.1-.9-2-2-2zM9 17H7v-7h2v7zm4 0h-2V7h2v10zm4 0h-2v-4h2v4z\"/>\n",
              "    </g>\n",
              "</svg>\n",
              "  </button>\n",
              "\n",
              "<style>\n",
              "  .colab-df-quickchart {\n",
              "      --bg-color: #E8F0FE;\n",
              "      --fill-color: #1967D2;\n",
              "      --hover-bg-color: #E2EBFA;\n",
              "      --hover-fill-color: #174EA6;\n",
              "      --disabled-fill-color: #AAA;\n",
              "      --disabled-bg-color: #DDD;\n",
              "  }\n",
              "\n",
              "  [theme=dark] .colab-df-quickchart {\n",
              "      --bg-color: #3B4455;\n",
              "      --fill-color: #D2E3FC;\n",
              "      --hover-bg-color: #434B5C;\n",
              "      --hover-fill-color: #FFFFFF;\n",
              "      --disabled-bg-color: #3B4455;\n",
              "      --disabled-fill-color: #666;\n",
              "  }\n",
              "\n",
              "  .colab-df-quickchart {\n",
              "    background-color: var(--bg-color);\n",
              "    border: none;\n",
              "    border-radius: 50%;\n",
              "    cursor: pointer;\n",
              "    display: none;\n",
              "    fill: var(--fill-color);\n",
              "    height: 32px;\n",
              "    padding: 0;\n",
              "    width: 32px;\n",
              "  }\n",
              "\n",
              "  .colab-df-quickchart:hover {\n",
              "    background-color: var(--hover-bg-color);\n",
              "    box-shadow: 0 1px 2px rgba(60, 64, 67, 0.3), 0 1px 3px 1px rgba(60, 64, 67, 0.15);\n",
              "    fill: var(--button-hover-fill-color);\n",
              "  }\n",
              "\n",
              "  .colab-df-quickchart-complete:disabled,\n",
              "  .colab-df-quickchart-complete:disabled:hover {\n",
              "    background-color: var(--disabled-bg-color);\n",
              "    fill: var(--disabled-fill-color);\n",
              "    box-shadow: none;\n",
              "  }\n",
              "\n",
              "  .colab-df-spinner {\n",
              "    border: 2px solid var(--fill-color);\n",
              "    border-color: transparent;\n",
              "    border-bottom-color: var(--fill-color);\n",
              "    animation:\n",
              "      spin 1s steps(1) infinite;\n",
              "  }\n",
              "\n",
              "  @keyframes spin {\n",
              "    0% {\n",
              "      border-color: transparent;\n",
              "      border-bottom-color: var(--fill-color);\n",
              "      border-left-color: var(--fill-color);\n",
              "    }\n",
              "    20% {\n",
              "      border-color: transparent;\n",
              "      border-left-color: var(--fill-color);\n",
              "      border-top-color: var(--fill-color);\n",
              "    }\n",
              "    30% {\n",
              "      border-color: transparent;\n",
              "      border-left-color: var(--fill-color);\n",
              "      border-top-color: var(--fill-color);\n",
              "      border-right-color: var(--fill-color);\n",
              "    }\n",
              "    40% {\n",
              "      border-color: transparent;\n",
              "      border-right-color: var(--fill-color);\n",
              "      border-top-color: var(--fill-color);\n",
              "    }\n",
              "    60% {\n",
              "      border-color: transparent;\n",
              "      border-right-color: var(--fill-color);\n",
              "    }\n",
              "    80% {\n",
              "      border-color: transparent;\n",
              "      border-right-color: var(--fill-color);\n",
              "      border-bottom-color: var(--fill-color);\n",
              "    }\n",
              "    90% {\n",
              "      border-color: transparent;\n",
              "      border-bottom-color: var(--fill-color);\n",
              "    }\n",
              "  }\n",
              "</style>\n",
              "\n",
              "  <script>\n",
              "    async function quickchart(key) {\n",
              "      const quickchartButtonEl =\n",
              "        document.querySelector('#' + key + ' button');\n",
              "      quickchartButtonEl.disabled = true;  // To prevent multiple clicks.\n",
              "      quickchartButtonEl.classList.add('colab-df-spinner');\n",
              "      try {\n",
              "        const charts = await google.colab.kernel.invokeFunction(\n",
              "            'suggestCharts', [key], {});\n",
              "      } catch (error) {\n",
              "        console.error('Error during call to suggestCharts:', error);\n",
              "      }\n",
              "      quickchartButtonEl.classList.remove('colab-df-spinner');\n",
              "      quickchartButtonEl.classList.add('colab-df-quickchart-complete');\n",
              "    }\n",
              "    (() => {\n",
              "      let quickchartButtonEl =\n",
              "        document.querySelector('#df-d8ea0486-9a49-449b-8104-ba8b75b69b1d button');\n",
              "      quickchartButtonEl.style.display =\n",
              "        google.colab.kernel.accessAllowed ? 'block' : 'none';\n",
              "    })();\n",
              "  </script>\n",
              "</div>\n",
              "    </div>\n",
              "  </div>\n"
            ]
          },
          "metadata": {},
          "execution_count": 100
        }
      ]
    },
    {
      "cell_type": "code",
      "source": [
        "print('panjang Data : ', len(df))"
      ],
      "metadata": {
        "id": "y8c131TcWwYg",
        "colab": {
          "base_uri": "https://localhost:8080/"
        },
        "outputId": "b0155ec7-916b-49a5-b2d2-8af05b9ee795"
      },
      "execution_count": null,
      "outputs": [
        {
          "output_type": "stream",
          "name": "stdout",
          "text": [
            "panjang Data :  21459\n"
          ]
        }
      ]
    },
    {
      "cell_type": "code",
      "source": [
        "df['Emotion'].value_counts()"
      ],
      "metadata": {
        "id": "ZxmwMjeLkUxY",
        "colab": {
          "base_uri": "https://localhost:8080/"
        },
        "outputId": "dfd86788-5487-4916-dcde-e5e03d1f8a3b"
      },
      "execution_count": null,
      "outputs": [
        {
          "output_type": "execute_result",
          "data": {
            "text/plain": [
              "happy       7029\n",
              "sadness     6265\n",
              "anger       2993\n",
              "fear        2652\n",
              "love        1641\n",
              "surprise     879\n",
              "Name: Emotion, dtype: int64"
            ]
          },
          "metadata": {},
          "execution_count": 102
        }
      ]
    },
    {
      "cell_type": "code",
      "source": [
        "# Cek duplikasi dan hitung jumlah baris yang duplikat\n",
        "duplicated_rows_count = df.duplicated().sum()\n",
        "\n",
        "# Tampilkan jumlah baris yang duplikat\n",
        "print(f\"Jumlah Baris Duplikat: {duplicated_rows_count}\")\n",
        "\n",
        "# Cek duplikasi berdasarkan kolom tertentu dan hitung jumlah baris yang duplikat\n",
        "duplicated_rows_by_column_count = df.duplicated(subset=['Text']).sum()\n",
        "\n",
        "# Tampilkan jumlah baris yang duplikat berdasarkan kolom\n",
        "print(f\"Jumlah Baris Duplikat Berdasarkan Kolom: {duplicated_rows_by_column_count}\")\n"
      ],
      "metadata": {
        "id": "XKMXNQUtkkJC",
        "colab": {
          "base_uri": "https://localhost:8080/"
        },
        "outputId": "3670335c-5a81-4609-d085-537fca5ac006"
      },
      "execution_count": null,
      "outputs": [
        {
          "output_type": "stream",
          "name": "stdout",
          "text": [
            "Jumlah Baris Duplikat: 3\n",
            "Jumlah Baris Duplikat Berdasarkan Kolom: 54\n"
          ]
        }
      ]
    },
    {
      "cell_type": "code",
      "source": [
        "# Cek apakah ada nilai yang kosong di seluruh DataFrame\n",
        "missing_values = df.isnull().sum()\n",
        "\n",
        "# Cek apakah ada nilai yang kosong di kolom tertentu (ganti 'column_name' dengan nama kolom yang ingin diperiksa)\n",
        "missing_values_by_column = df['Text'].isnull().sum()\n",
        "\n",
        "# Tampilkan jumlah nilai yang kosong\n",
        "print(\"Jumlah Nilai Kosong Keseluruhan:\")\n",
        "print(missing_values)\n",
        "\n",
        "print(\"\\nJumlah Nilai Kosong Berdasarkan Kolom:\")\n",
        "print(missing_values_by_column)\n"
      ],
      "metadata": {
        "id": "r6NsrSZsljgT",
        "colab": {
          "base_uri": "https://localhost:8080/"
        },
        "outputId": "64c98ad3-a791-4bdc-f49e-d89dd02f3ac1"
      },
      "execution_count": null,
      "outputs": [
        {
          "output_type": "stream",
          "name": "stdout",
          "text": [
            "Jumlah Nilai Kosong Keseluruhan:\n",
            "Text            0\n",
            "Emotion         0\n",
            "cleaned_text    0\n",
            "dtype: int64\n",
            "\n",
            "Jumlah Nilai Kosong Berdasarkan Kolom:\n",
            "0\n"
          ]
        }
      ]
    },
    {
      "cell_type": "code",
      "source": [
        "# Hapus baris yang duplikat secara langsung pada DataFrame asli\n",
        "df.drop_duplicates(inplace=True)"
      ],
      "metadata": {
        "id": "aqFkBiLdl6dJ"
      },
      "execution_count": null,
      "outputs": []
    },
    {
      "cell_type": "code",
      "source": [
        "max_words = 10000\n",
        "tokenizer = Tokenizer(num_words=max_words, oov_token=\"<OOV>\")\n",
        "tokenizer.fit_on_texts(df['cleaned_text'])\n",
        "\n",
        "sequences = tokenizer.texts_to_sequences(df['cleaned_text'])\n",
        "padded_sequences = pad_sequences(sequences)\n",
        "\n",
        "label_encoder = LabelEncoder()\n",
        "encoded_labels = label_encoder.fit_transform(df['Emotion'])\n",
        "one_hot_labels = to_categorical(encoded_labels, num_classes=len(set(df['Emotion'])))\n"
      ],
      "metadata": {
        "id": "JyHvZPGukdEQ"
      },
      "execution_count": null,
      "outputs": []
    },
    {
      "cell_type": "code",
      "source": [
        "label_mapping = pd.DataFrame({'Label': encoded_labels, 'label': df['Emotion']}).drop_duplicates().reset_index(drop=True)\n",
        "print(label_mapping)"
      ],
      "metadata": {
        "id": "zz1OBlNokt_h",
        "colab": {
          "base_uri": "https://localhost:8080/"
        },
        "outputId": "5e60cec9-8c94-4a2d-8795-ab30870a91ac"
      },
      "execution_count": null,
      "outputs": [
        {
          "output_type": "stream",
          "name": "stdout",
          "text": [
            "   Label     label\n",
            "0      4   sadness\n",
            "1      0     anger\n",
            "2      3      love\n",
            "3      5  surprise\n",
            "4      1      fear\n",
            "5      2     happy\n"
          ]
        }
      ]
    },
    {
      "cell_type": "code",
      "source": [
        "X_train, X_temp, y_train, y_temp = train_test_split(padded_sequences, one_hot_labels, test_size=0.4, random_state=42)\n",
        "X_val, X_test, y_val, y_test = train_test_split(X_temp, y_temp, test_size=0.5, random_state=42)\n"
      ],
      "metadata": {
        "id": "J2LXwIX7lo6C"
      },
      "execution_count": null,
      "outputs": []
    },
    {
      "cell_type": "code",
      "source": [
        "early_stopping = EarlyStopping(monitor='val_loss', patience=10, restore_best_weights=True)\n",
        "model_checkpoint = ModelCheckpoint(filepath='best_model.h5', monitor='val_accuracy', save_best_only=True)\n"
      ],
      "metadata": {
        "id": "cje2RDQ4p8Wb"
      },
      "execution_count": null,
      "outputs": []
    },
    {
      "cell_type": "code",
      "source": [
        "num_classes = len(set(df['Emotion']))\n",
        "model = tf.keras.Sequential([\n",
        "    tf.keras.layers.Embedding(input_dim=max_words, output_dim=16, input_length=padded_sequences.shape[1]),\n",
        "    tf.keras.layers.LSTM(64, return_sequences=False),\n",
        "    tf.keras.layers.Dense(128, activation='relu', kernel_regularizer=tf.keras.regularizers.l2(0.01)),\n",
        "    tf.keras.layers.Dense(64, activation='relu', kernel_regularizer=tf.keras.regularizers.l2(0.01)),\n",
        "    tf.keras.layers.Dense(num_classes, activation='softmax')\n",
        "])\n"
      ],
      "metadata": {
        "id": "fx5i1OaRlpmy"
      },
      "execution_count": null,
      "outputs": []
    },
    {
      "cell_type": "code",
      "source": [
        "model.compile(optimizer='adam', loss='categorical_crossentropy', metrics=['accuracy'])\n"
      ],
      "metadata": {
        "id": "rDKrLpzcnCeZ"
      },
      "execution_count": null,
      "outputs": []
    },
    {
      "cell_type": "code",
      "source": [
        "num_epochs = 50\n",
        "\n",
        "history = model.fit(X_train, y_train, epochs=num_epochs, validation_data=(X_val, y_val), callbacks=[early_stopping, model_checkpoint], verbose=2)\n",
        "\n"
      ],
      "metadata": {
        "id": "SR35KRTTlvHK",
        "colab": {
          "base_uri": "https://localhost:8080/"
        },
        "outputId": "cd52d092-d8d2-4267-ae8d-0452af400a2c"
      },
      "execution_count": null,
      "outputs": [
        {
          "output_type": "stream",
          "name": "stdout",
          "text": [
            "Epoch 1/50\n",
            "403/403 - 20s - loss: 1.8655 - accuracy: 0.3247 - val_loss: 1.5428 - val_accuracy: 0.3221 - 20s/epoch - 51ms/step\n",
            "Epoch 2/50\n"
          ]
        },
        {
          "output_type": "stream",
          "name": "stderr",
          "text": [
            "/usr/local/lib/python3.10/dist-packages/keras/src/engine/training.py:3103: UserWarning: You are saving your model as an HDF5 file via `model.save()`. This file format is considered legacy. We recommend using instead the native Keras format, e.g. `model.save('my_model.keras')`.\n",
            "  saving_api.save_model(\n"
          ]
        },
        {
          "output_type": "stream",
          "name": "stdout",
          "text": [
            "403/403 - 17s - loss: 1.2855 - accuracy: 0.3974 - val_loss: 1.2035 - val_accuracy: 0.4258 - 17s/epoch - 43ms/step\n",
            "Epoch 3/50\n",
            "403/403 - 17s - loss: 1.0758 - accuracy: 0.4439 - val_loss: 1.1316 - val_accuracy: 0.4304 - 17s/epoch - 42ms/step\n",
            "Epoch 4/50\n",
            "403/403 - 17s - loss: 0.9857 - accuracy: 0.4907 - val_loss: 1.1212 - val_accuracy: 0.4584 - 17s/epoch - 42ms/step\n",
            "Epoch 5/50\n",
            "403/403 - 17s - loss: 0.9001 - accuracy: 0.5745 - val_loss: 1.0059 - val_accuracy: 0.6220 - 17s/epoch - 43ms/step\n",
            "Epoch 6/50\n",
            "403/403 - 17s - loss: 0.7355 - accuracy: 0.7124 - val_loss: 0.9730 - val_accuracy: 0.6786 - 17s/epoch - 42ms/step\n",
            "Epoch 7/50\n",
            "403/403 - 17s - loss: 0.6269 - accuracy: 0.7513 - val_loss: 0.8911 - val_accuracy: 0.6791 - 17s/epoch - 42ms/step\n",
            "Epoch 8/50\n",
            "403/403 - 17s - loss: 0.5640 - accuracy: 0.7698 - val_loss: 0.8454 - val_accuracy: 0.7073 - 17s/epoch - 42ms/step\n",
            "Epoch 9/50\n",
            "403/403 - 17s - loss: 0.5157 - accuracy: 0.7882 - val_loss: 0.8292 - val_accuracy: 0.7099 - 17s/epoch - 42ms/step\n",
            "Epoch 10/50\n",
            "403/403 - 18s - loss: 0.4710 - accuracy: 0.8077 - val_loss: 0.8266 - val_accuracy: 0.7236 - 18s/epoch - 44ms/step\n",
            "Epoch 11/50\n",
            "403/403 - 17s - loss: 0.4239 - accuracy: 0.8309 - val_loss: 0.8257 - val_accuracy: 0.7383 - 17s/epoch - 42ms/step\n",
            "Epoch 12/50\n",
            "403/403 - 16s - loss: 0.3931 - accuracy: 0.8525 - val_loss: 0.8296 - val_accuracy: 0.7560 - 16s/epoch - 39ms/step\n",
            "Epoch 13/50\n",
            "403/403 - 16s - loss: 0.3299 - accuracy: 0.9095 - val_loss: 0.7662 - val_accuracy: 0.8150 - 16s/epoch - 39ms/step\n",
            "Epoch 14/50\n",
            "403/403 - 17s - loss: 0.2471 - accuracy: 0.9525 - val_loss: 0.6813 - val_accuracy: 0.8485 - 17s/epoch - 42ms/step\n",
            "Epoch 15/50\n",
            "403/403 - 17s - loss: 0.2055 - accuracy: 0.9646 - val_loss: 0.7311 - val_accuracy: 0.8481 - 17s/epoch - 43ms/step\n",
            "Epoch 16/50\n",
            "403/403 - 16s - loss: 0.1696 - accuracy: 0.9749 - val_loss: 0.6733 - val_accuracy: 0.8527 - 16s/epoch - 39ms/step\n",
            "Epoch 17/50\n",
            "403/403 - 16s - loss: 0.1515 - accuracy: 0.9786 - val_loss: 0.7076 - val_accuracy: 0.8590 - 16s/epoch - 39ms/step\n",
            "Epoch 18/50\n",
            "403/403 - 17s - loss: 0.1447 - accuracy: 0.9793 - val_loss: 0.6174 - val_accuracy: 0.8709 - 17s/epoch - 42ms/step\n",
            "Epoch 19/50\n",
            "403/403 - 18s - loss: 0.1322 - accuracy: 0.9831 - val_loss: 0.6680 - val_accuracy: 0.8697 - 18s/epoch - 44ms/step\n",
            "Epoch 20/50\n",
            "403/403 - 17s - loss: 0.1271 - accuracy: 0.9816 - val_loss: 0.6570 - val_accuracy: 0.8655 - 17s/epoch - 42ms/step\n",
            "Epoch 21/50\n",
            "403/403 - 17s - loss: 0.1108 - accuracy: 0.9859 - val_loss: 0.6013 - val_accuracy: 0.8618 - 17s/epoch - 42ms/step\n",
            "Epoch 22/50\n",
            "403/403 - 16s - loss: 0.0984 - accuracy: 0.9879 - val_loss: 0.5813 - val_accuracy: 0.8723 - 16s/epoch - 40ms/step\n",
            "Epoch 23/50\n",
            "403/403 - 17s - loss: 0.0942 - accuracy: 0.9885 - val_loss: 0.6870 - val_accuracy: 0.8690 - 17s/epoch - 41ms/step\n",
            "Epoch 24/50\n",
            "403/403 - 19s - loss: 0.1038 - accuracy: 0.9853 - val_loss: 0.5718 - val_accuracy: 0.8758 - 19s/epoch - 47ms/step\n",
            "Epoch 25/50\n",
            "403/403 - 16s - loss: 0.0891 - accuracy: 0.9880 - val_loss: 0.5814 - val_accuracy: 0.8723 - 16s/epoch - 39ms/step\n",
            "Epoch 26/50\n",
            "403/403 - 17s - loss: 0.0785 - accuracy: 0.9915 - val_loss: 0.5766 - val_accuracy: 0.8697 - 17s/epoch - 42ms/step\n",
            "Epoch 27/50\n",
            "403/403 - 17s - loss: 0.0749 - accuracy: 0.9915 - val_loss: 0.5754 - val_accuracy: 0.8804 - 17s/epoch - 41ms/step\n",
            "Epoch 28/50\n",
            "403/403 - 17s - loss: 0.0873 - accuracy: 0.9879 - val_loss: 0.6360 - val_accuracy: 0.8676 - 17s/epoch - 43ms/step\n",
            "Epoch 29/50\n",
            "403/403 - 16s - loss: 0.0831 - accuracy: 0.9876 - val_loss: 0.5850 - val_accuracy: 0.8732 - 16s/epoch - 39ms/step\n",
            "Epoch 30/50\n",
            "403/403 - 17s - loss: 0.0694 - accuracy: 0.9905 - val_loss: 0.6818 - val_accuracy: 0.8681 - 17s/epoch - 42ms/step\n",
            "Epoch 31/50\n",
            "403/403 - 17s - loss: 0.0682 - accuracy: 0.9908 - val_loss: 0.6079 - val_accuracy: 0.8688 - 17s/epoch - 42ms/step\n",
            "Epoch 32/50\n",
            "403/403 - 17s - loss: 0.0592 - accuracy: 0.9933 - val_loss: 0.6212 - val_accuracy: 0.8790 - 17s/epoch - 41ms/step\n",
            "Epoch 33/50\n",
            "403/403 - 17s - loss: 0.0548 - accuracy: 0.9941 - val_loss: 0.6717 - val_accuracy: 0.8639 - 17s/epoch - 42ms/step\n",
            "Epoch 34/50\n",
            "403/403 - 17s - loss: 0.0594 - accuracy: 0.9928 - val_loss: 0.5928 - val_accuracy: 0.8739 - 17s/epoch - 42ms/step\n"
          ]
        }
      ]
    },
    {
      "cell_type": "code",
      "source": [
        "loss, accuracy = model.evaluate(X_test, y_test)\n",
        "print(f'Akurasi: {accuracy*100:.2f}%›')"
      ],
      "metadata": {
        "id": "T9s8_bKbU-g0",
        "colab": {
          "base_uri": "https://localhost:8080/"
        },
        "outputId": "4ed39ed4-40cd-498f-be34-5ae0547d1d70"
      },
      "execution_count": null,
      "outputs": [
        {
          "output_type": "stream",
          "name": "stdout",
          "text": [
            "135/135 [==============================] - 2s 11ms/step - loss: 0.5487 - accuracy: 0.8879\n",
            "Akurasi: 88.79%›\n"
          ]
        }
      ]
    },
    {
      "cell_type": "code",
      "source": [
        "\n",
        "# Plot loss dan akurasi\n",
        "plt.figure(figsize=(12, 6))\n",
        "\n",
        "# Plot Loss\n",
        "plt.subplot(1, 2, 1)\n",
        "plt.plot(history.history['loss'], label='Training Loss')\n",
        "plt.plot(history.history['val_loss'], label='Validation Loss')\n",
        "plt.title('Loss Plot')\n",
        "plt.xlabel('Epochs')\n",
        "plt.ylabel('Loss')\n",
        "plt.legend()\n",
        "\n",
        "# Plot Akurasi\n",
        "plt.subplot(1, 2, 2)\n",
        "plt.plot(history.history['accuracy'], label='Training Accuracy')\n",
        "plt.plot(history.history['val_accuracy'], label='Validation Accuracy')\n",
        "plt.title('Accuracy Plot')\n",
        "plt.xlabel('Epochs')\n",
        "plt.ylabel('Accuracy')\n",
        "plt.legend()\n",
        "\n",
        "plt.tight_layout()\n",
        "plt.show()"
      ],
      "metadata": {
        "id": "5gblMT6grBpY",
        "colab": {
          "base_uri": "https://localhost:8080/",
          "height": 607
        },
        "outputId": "c84baaf1-5ee5-4293-808c-84dbf521f791"
      },
      "execution_count": null,
      "outputs": [
        {
          "output_type": "display_data",
          "data": {
            "text/plain": [
              "<Figure size 1200x600 with 2 Axes>"
            ],
            "image/png": "[encoded data removed]"
          },
          "metadata": {}
        }
      ]
    },
    {
      "cell_type": "code",
      "source": [
        "import numpy as np\n",
        "\n",
        "# Fungsi untuk melakukan tokenisasi dan padding pada teks baru\n",
        "def preprocess_text(text):\n",
        "    text = text.lower()\n",
        "    sequence = tokenizer.texts_to_sequences([text])\n",
        "    padded_sequence = pad_sequences(sequence, maxlen=padded_sequences.shape[1])\n",
        "    return padded_sequence\n",
        "\n",
        "# Contoh teks baru untuk diuji\n",
        "new_text = str(input(\"masukan teks : \"))\n",
        "\n",
        "# Preprocess teks baru\n",
        "preprocessed_text = preprocess_text(new_text)\n",
        "\n",
        "# Lakukan prediksi dengan model\n",
        "prediction = model.predict(preprocessed_text)\n",
        "\n",
        "# Decode prediksi menjadi label\n",
        "predicted_label = label_encoder.classes_[np.argmax(prediction)]\n",
        "\n",
        "# Tampilkan hasil\n",
        "print(f'Teks: {new_text}')\n",
        "print(f'Prediksi: {predicted_label}')\n"
      ],
      "metadata": {
        "id": "6fHfRfHjsNaY",
        "colab": {
          "base_uri": "https://localhost:8080/"
        },
        "outputId": "7ee3e7c5-bff1-4099-8d73-7b30e4951016"
      },
      "execution_count": null,
      "outputs": [
        {
          "output_type": "stream",
          "name": "stdout",
          "text": [
            "masukan teks : Frustration boiling over today. 🤬 Some days, it feels like everything's testing patience. Taking a deep breath, but the storm inside is real. \n",
            "1/1 [==============================] - 0s 28ms/step\n",
            "Teks: Frustration boiling over today. 🤬 Some days, it feels like everything's testing patience. Taking a deep breath, but the storm inside is real. \n",
            "Prediksi: sadness\n"
          ]
        }
      ]
    }
  ]
}